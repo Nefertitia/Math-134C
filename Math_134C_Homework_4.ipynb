{
 "cells": [
  {
   "cell_type": "markdown",
   "metadata": {},
   "source": [
    "# Math 134C Homework 4\n",
    "## Matt Eimers: 56652700"
   ]
  },
  {
   "cell_type": "markdown",
   "metadata": {},
   "source": [
    "### Problem 12.1"
   ]
  },
  {
   "cell_type": "code",
   "execution_count": 134,
   "metadata": {},
   "outputs": [
    {
     "name": "stdout",
     "output_type": "stream",
     "text": [
      "The Black Scholes Price of the Call in example 12.1 is: $3.40\n",
      "The Black Scholes Price of the Put in example 12.2 is: $1.61\n"
     ]
    },
    {
     "data": {
      "text/html": [
       "<div>\n",
       "<style scoped>\n",
       "    .dataframe tbody tr th:only-of-type {\n",
       "        vertical-align: middle;\n",
       "    }\n",
       "\n",
       "    .dataframe tbody tr th {\n",
       "        vertical-align: top;\n",
       "    }\n",
       "\n",
       "    .dataframe thead th {\n",
       "        text-align: right;\n",
       "    }\n",
       "</style>\n",
       "<table border=\"1\" class=\"dataframe\">\n",
       "  <thead>\n",
       "    <tr style=\"text-align: right;\">\n",
       "      <th></th>\n",
       "      <th>Metric</th>\n",
       "      <th>Call Option</th>\n",
       "      <th>Put Option</th>\n",
       "    </tr>\n",
       "  </thead>\n",
       "  <tbody>\n",
       "    <tr>\n",
       "      <th>0</th>\n",
       "      <td>Price</td>\n",
       "      <td>3.3991</td>\n",
       "      <td>1.6070</td>\n",
       "    </tr>\n",
       "    <tr>\n",
       "      <th>1</th>\n",
       "      <td>Delta</td>\n",
       "      <td>0.6454</td>\n",
       "      <td>-0.3546</td>\n",
       "    </tr>\n",
       "    <tr>\n",
       "      <th>2</th>\n",
       "      <td>Gamma</td>\n",
       "      <td>0.0605</td>\n",
       "      <td>0.0605</td>\n",
       "    </tr>\n",
       "    <tr>\n",
       "      <th>3</th>\n",
       "      <td>Vega</td>\n",
       "      <td>7.6289</td>\n",
       "      <td>7.6289</td>\n",
       "    </tr>\n",
       "    <tr>\n",
       "      <th>4</th>\n",
       "      <td>Theta</td>\n",
       "      <td>-6.4223</td>\n",
       "      <td>-3.2857</td>\n",
       "    </tr>\n",
       "    <tr>\n",
       "      <th>5</th>\n",
       "      <td>Rho</td>\n",
       "      <td>5.7657</td>\n",
       "      <td>-4.0363</td>\n",
       "    </tr>\n",
       "    <tr>\n",
       "      <th>6</th>\n",
       "      <td>d1</td>\n",
       "      <td>0.3730</td>\n",
       "      <td>0.3730</td>\n",
       "    </tr>\n",
       "    <tr>\n",
       "      <th>7</th>\n",
       "      <td>d2</td>\n",
       "      <td>0.2230</td>\n",
       "      <td>0.2230</td>\n",
       "    </tr>\n",
       "  </tbody>\n",
       "</table>\n",
       "</div>"
      ],
      "text/plain": [
       "  Metric  Call Option  Put Option\n",
       "0  Price       3.3991      1.6070\n",
       "1  Delta       0.6454     -0.3546\n",
       "2  Gamma       0.0605      0.0605\n",
       "3   Vega       7.6289      7.6289\n",
       "4  Theta      -6.4223     -3.2857\n",
       "5    Rho       5.7657     -4.0363\n",
       "6     d1       0.3730      0.3730\n",
       "7     d2       0.2230      0.2230"
      ]
     },
     "execution_count": 134,
     "metadata": {},
     "output_type": "execute_result"
    }
   ],
   "source": [
    "import pandas as pd\n",
    "from scipy.stats import norm\n",
    "import numpy as np\n",
    "\n",
    "def european_call_price_and_greeks(S, E, T, r, sigma):\n",
    "    # Calculate d1 and d2\n",
    "    d1 = (np.log(S / E) + (r + 0.5 * sigma ** 2) * T) / (sigma * np.sqrt(T))\n",
    "    d2 = d1 - sigma * np.sqrt(T)\n",
    "\n",
    "    # Calculate the price of the call option\n",
    "    price = S * norm.cdf(d1) - E * np.exp(-r * T) * norm.cdf(d2)\n",
    "\n",
    "    # Calculate Greeks\n",
    "    delta = norm.cdf(d1)\n",
    "    gamma = norm.pdf(d1) / (S * sigma * np.sqrt(T))\n",
    "    theta = -S * norm.pdf(d1) * sigma / (2 * np.sqrt(T)) - r * E * np.exp(-r * T) * norm.cdf(d2)\n",
    "    vega = S * np.sqrt(T) * norm.pdf(d1)\n",
    "    rho = T * E * np.exp(-r * T) * norm.cdf(d2)\n",
    "\n",
    "    return price, delta, gamma, vega, theta, rho , d1 , d2\n",
    "\n",
    "def european_put_price_and_greeks(S, E, T, r, sigma):\n",
    "    # Calculate d1 and d2\n",
    "    d1 = (np.log(S / E) + (r + 0.5 * sigma ** 2) * T) / (sigma * np.sqrt(T))\n",
    "    d2 = d1 - sigma * np.sqrt(T)\n",
    "\n",
    "    # Calculate the price of the call option\n",
    "    price = -(S * norm.cdf(-d1)) + (E * np.exp(-r * T) * norm.cdf(-d2))\n",
    "\n",
    "    # Calculate Greeks\n",
    "    delta = norm.cdf(d1) - 1\n",
    "    gamma = norm.pdf(d1) / (S * sigma * np.sqrt(T))\n",
    "    theta = -S * norm.pdf(d1) * sigma / (2 * np.sqrt(T)) + r * E * np.exp(-r * T) * norm.cdf(-d2)\n",
    "    vega = S * np.sqrt(T) * norm.pdf(d1)\n",
    "    rho = -T * E * np.exp(-r * T) * norm.cdf(-d2)\n",
    "\n",
    "    return price, delta, gamma, vega, theta, rho ,  d1 , d2\n",
    "\n",
    "# Example usage\n",
    "S0 = 41  # Current stock price\n",
    "E = 40  # Strike price\n",
    "T = 0.25   # Time to expiration (1 year)\n",
    "r = 0.08  # Risk-free interest rate\n",
    "sigma = 0.3  # Volatility of the stock\n",
    "\n",
    "price_Call, delta_Call, gamma_Call, vega_Call, theta_Call, rho_Call, call_d1, call_d2 = european_call_price_and_greeks(S0, E, T, r, sigma)\n",
    "price_Put, delta_Put, gamma_Put,  vega_Put,theta_Put, rho_Put, put_d1, put_d2= european_put_price_and_greeks(S0, E, T, r, sigma)\n",
    "#print(f\"Call Price: {price_Call:.2f}, Delta: {delta_Call:.4f}, Gamma: {gamma_Call:.4f},  Vega: {vega_Call:.4f}, Theta: {theta_Call:.4f}, Rho: {rho_Call:.4f}\")\n",
    "#print(f\"Put Price: {price_Put:.2f}, Delta: {delta_Put:.4f}, Gamma: {gamma_Put:.4f},  Vega: {vega_Put:.4f}, Theta: {theta_Put:.4f}, Rho: {rho_Put:.4f}\")\n",
    "results = pd.DataFrame({\n",
    "    'Metric': ['Price', 'Delta', 'Gamma', 'Vega', 'Theta', 'Rho', 'd1', 'd2'],\n",
    "    'Call Option': [price_Call, delta_Call, gamma_Call,  vega_Call, theta_Call,  rho_Call, call_d1, call_d2],\n",
    "    'Put Option': [price_Put, delta_Put, gamma_Put,  vega_Put, theta_Put,rho_Put, put_d1, put_d2]\n",
    "})\n",
    "\n",
    "# Formatting for better readability\n",
    "results = results.round(4)\n",
    "print(f'The Black Scholes Price of the Call in example 12.1 is: ${price_Call:.2f}')\n",
    "print(f'The Black Scholes Price of the Put in example 12.2 is: ${price_Put:.2f}')\n",
    "results"
   ]
  },
  {
   "cell_type": "markdown",
   "metadata": {},
   "source": [
    "### Problem 12.2"
   ]
  },
  {
   "cell_type": "code",
   "execution_count": 135,
   "metadata": {},
   "outputs": [
    {
     "name": "stdout",
     "output_type": "stream",
     "text": [
      "The European Option with 8 branches has a call price of $3.46 and a put price of $1.67\n",
      "The European Option with 9 branches has a call price of $3.36 and a put price of $1.57\n",
      "The European Option with 10 branches has a call price of $3.45 and a put price of $1.66\n",
      "The European Option with 11 branches has a call price of $3.35 and a put price of $1.56\n",
      "The European Option with 12 branches has a call price of $3.45 and a put price of $1.65\n"
     ]
    }
   ],
   "source": [
    "import numpy as np\n",
    "import math\n",
    "\n",
    "def binomial_option_European_Div_pricing_Put(S, E, u, d, r, t, num_steps, delta):\n",
    "    stock_tree = np.zeros((num_steps + 1, num_steps + 1))\n",
    "    option_tree = np.zeros((num_steps + 1, num_steps + 1))\n",
    "    S_star_tree = np.zeros((num_steps, num_steps))  \n",
    "    B_star_tree = np.zeros((num_steps, num_steps))  \n",
    "\n",
    "    for i in range(num_steps + 1):\n",
    "        for j in range(i + 1):\n",
    "            stock_tree[i - j, i] = S * (u ** j) * (d ** (i - j))\n",
    "\n",
    "    for j in range(num_steps + 1):\n",
    "        option_tree[j, num_steps] = max(0, E - stock_tree[j, num_steps])\n",
    "    \n",
    "    delta_t = t / num_steps\n",
    "    er_delta_t = math.exp((r - delta) * delta_t)\n",
    "    p = (er_delta_t - d) / (u - d)\n",
    "    \n",
    "    for i in range(num_steps - 1, -1, -1):\n",
    "        for j in range(i + 1):\n",
    "            Vu = option_tree[j, i + 1]\n",
    "            Vd = option_tree[j + 1, i + 1]\n",
    "            option_tree[j, i] = (p * Vu + (1 - p) * Vd) * math.exp(-r * delta_t)\n",
    "            S_star_tree[j, i], B_star_tree[j, i] = calculate_SB_Star_Div_price(Vu, Vd, stock_tree[j, i], u, d, r, delta_t, delta)\n",
    "    \n",
    "    return option_tree[0, 0]#, stock_tree, option_tree, S_star_tree, B_star_tree\n",
    "\n",
    "def binomial_option_European_Div_pricing_Call(S, E, u, d, r, t, num_steps, delta):\n",
    "    stock_tree = np.zeros((num_steps + 1, num_steps + 1))\n",
    "    option_tree = np.zeros((num_steps + 1, num_steps + 1))\n",
    "    S_star_tree = np.zeros((num_steps, num_steps))  \n",
    "    B_star_tree = np.zeros((num_steps, num_steps))  \n",
    "\n",
    "    for i in range(num_steps + 1):\n",
    "        for j in range(i + 1):\n",
    "            stock_tree[i - j, i] = S * (u ** j) * (d ** (i - j))\n",
    "\n",
    "    for j in range(num_steps + 1):\n",
    "        option_tree[j, num_steps] = max(0, stock_tree[j, num_steps] - E)\n",
    "    \n",
    "    delta_t = t / num_steps\n",
    "    er_delta_t = math.exp((r - delta) * delta_t)\n",
    "    p = (er_delta_t - d) / (u - d)\n",
    "    \n",
    "    for i in range(num_steps - 1, -1, -1):\n",
    "        for j in range(i + 1):\n",
    "            Vu = option_tree[j, i + 1]\n",
    "            Vd = option_tree[j + 1, i + 1]\n",
    "            option_tree[j, i] = (p * Vu + (1 - p) * Vd) * math.exp(-r * delta_t)\n",
    "            S_star_tree[j, i], B_star_tree[j, i] = calculate_SB_Star_Div_price(Vu, Vd, stock_tree[j, i], u, d, r, delta_t, delta)\n",
    "    \n",
    "    return option_tree[0, 0]#, stock_tree, option_tree, S_star_tree, B_star_tree\n",
    "\n",
    "def calculate_SB_Star_Div_price(Vu, Vd, S, u, d, r, t, delta):\n",
    "    pi = (np.exp(r * t) - d) / (u - d)\n",
    "    S_star = np.exp(-delta * t) * ((Vu - Vd) / (S * (u - d)))\n",
    "    B_star = (u * Vd - d * Vu) / (np.exp(r * t) * (u - d))\n",
    "    return S_star, B_star\n",
    "\n",
    "def calculate_ud_div_values(r, delta, t, sigma):\n",
    "    u = np.exp( (r - delta)*t + sigma*( t ** (0.5)))\n",
    "    d = np.exp( (r - delta)*t - sigma*( t ** (0.5)))\n",
    "    return u, d\n",
    "\n",
    "# Example parameters\n",
    "S = 41\n",
    "E = 40\n",
    "r = 0.08\n",
    "delta = 0\n",
    "sigma = 0.3\n",
    "num_steps1 = 8\n",
    "num_steps2 = 9\n",
    "num_steps3 = 10\n",
    "num_steps4 = 11\n",
    "num_steps5 = 12\n",
    "t = 0.25\n",
    "t1 = 0.25 / num_steps1\n",
    "t2 = 0.25 / num_steps2\n",
    "t3 = 0.25 / num_steps3\n",
    "t4 = 0.25 / num_steps4\n",
    "t5 = 0.25 / num_steps5\n",
    "\n",
    "u1, d1 = calculate_ud_div_values(r, delta, t1, sigma)\n",
    "u2, d2 = calculate_ud_div_values(r, delta, t2, sigma)\n",
    "u3, d3 = calculate_ud_div_values(r, delta, t3, sigma)\n",
    "u4, d4 = calculate_ud_div_values(r, delta, t4, sigma)\n",
    "u5, d5 = calculate_ud_div_values(r, delta, t5, sigma)\n",
    "\n",
    "EURO_DIV_option_price_call1 = binomial_option_European_Div_pricing_Call(S, E, u1, d1, r, t, num_steps1, delta)\n",
    "EURO_DIV_option_price_call2 = binomial_option_European_Div_pricing_Call(S, E, u2, d2, r, t, num_steps2, delta)\n",
    "EURO_DIV_option_price_call3 = binomial_option_European_Div_pricing_Call(S, E, u3, d3, r, t, num_steps3, delta)\n",
    "EURO_DIV_option_price_call4 = binomial_option_European_Div_pricing_Call(S, E, u4, d4, r, t, num_steps4, delta)\n",
    "EURO_DIV_option_price_call5 = binomial_option_European_Div_pricing_Call(S, E, u5, d5, r, t, num_steps5, delta)\n",
    "\n",
    "EURO_DIV_option_price_put1 = binomial_option_European_Div_pricing_Put(S, E, u1, d1, r, t, num_steps1, delta)\n",
    "EURO_DIV_option_price_put2 = binomial_option_European_Div_pricing_Put(S, E, u2, d2, r, t, num_steps2, delta)\n",
    "EURO_DIV_option_price_put3 = binomial_option_European_Div_pricing_Put(S, E, u3, d3, r, t, num_steps3, delta)\n",
    "EURO_DIV_option_price_put4 = binomial_option_European_Div_pricing_Put(S, E, u4, d4, r, t, num_steps4, delta)\n",
    "EURO_DIV_option_price_put5 = binomial_option_European_Div_pricing_Put(S, E, u5, d5, r, t, num_steps5, delta)\n",
    "\n",
    "\n",
    "print(f'The European Option with {num_steps1} branches has a call price of ${EURO_DIV_option_price_call1:.2f} and a put price of ${EURO_DIV_option_price_put1:.2f}')\n",
    "print(f'The European Option with {num_steps2} branches has a call price of ${EURO_DIV_option_price_call2:.2f} and a put price of ${EURO_DIV_option_price_put2:.2f}')\n",
    "print(f'The European Option with {num_steps3} branches has a call price of ${EURO_DIV_option_price_call3:.2f} and a put price of ${EURO_DIV_option_price_put3:.2f}')\n",
    "print(f'The European Option with {num_steps4} branches has a call price of ${EURO_DIV_option_price_call4:.2f} and a put price of ${EURO_DIV_option_price_put4:.2f}')\n",
    "print(f'The European Option with {num_steps5} branches has a call price of ${EURO_DIV_option_price_call5:.2f} and a put price of ${EURO_DIV_option_price_put5:.2f}')\n",
    "\n"
   ]
  },
  {
   "cell_type": "markdown",
   "metadata": {},
   "source": [
    "As the number of branches goes to infinity or increases we observe that the price of the option for the binomial option price converges to the option price of the black scholes formula."
   ]
  },
  {
   "cell_type": "markdown",
   "metadata": {},
   "source": [
    "### Problem 12.3"
   ]
  },
  {
   "cell_type": "code",
   "execution_count": 136,
   "metadata": {},
   "outputs": [
    {
     "name": "stdout",
     "output_type": "stream",
     "text": [
      "Call price: 7.90\n",
      "Call price: 15.88\n",
      "Call price: 34.67\n",
      "Call price: 56.24\n",
      "Call price: 98.10\n",
      "Call price: 99.96\n",
      "Call price: 100.00\n"
     ]
    }
   ],
   "source": [
    "import pandas as pd\n",
    "import numpy as np\n",
    "from scipy.stats import norm\n",
    "\n",
    "def european_call_price_dividend( S, E, T, r, rho, sigma):\n",
    "    d1 = (np.log(S / E) + (r - rho + 0.5 * sigma**2) * T) / (sigma * np.sqrt(T))\n",
    "    d2 = d1 - sigma * np.sqrt(T)\n",
    "    price = S * np.exp(- rho * T) * norm.cdf(d1) - E * np.exp(-r * T) * norm.cdf(d2)\n",
    "    return price\n",
    "\n",
    "def european_put_price_dividend(S, E, T, r, rho, sigma):\n",
    "    d1 = (np.log(S / E) + (r - rho + 0.5 * sigma**2) * T) / (sigma * np.sqrt(T))\n",
    "    d2 = d1 - sigma * np.sqrt(T)\n",
    "    price = E * np.exp(-r * T) * norm.cdf(-d2) - S * np.exp(- rho * T) * norm.cdf(-d1)\n",
    "    return price\n",
    "\n",
    "# Example usage\n",
    "S = 100\n",
    "E = 120\n",
    "T1 = 1\n",
    "T2 = 2\n",
    "T3 = 5\n",
    "T4 = 10\n",
    "T5 = 50\n",
    "T6 = 100\n",
    "T7 = 500\n",
    "r = 0.08\n",
    "sigma = 0.3\n",
    "rho = 0\n",
    "\n",
    "\n",
    "call_price1 = european_call_price_dividend(S, E, T1, r, rho, sigma)\n",
    "call_price2 = european_call_price_dividend(S, E, T2, r, rho, sigma)\n",
    "call_price3 = european_call_price_dividend(S, E, T3, r, rho, sigma)\n",
    "call_price4 = european_call_price_dividend(S, E, T4, r, rho, sigma)\n",
    "call_price5 = european_call_price_dividend(S, E, T5, r, rho, sigma)\n",
    "call_price6 = european_call_price_dividend(S, E, T6, r, rho, sigma)\n",
    "call_price7 = european_call_price_dividend(S, E, T7, r, rho, sigma)\n",
    "\n",
    "print(f\"Call price: {call_price1:.2f}\")\n",
    "print(f\"Call price: {call_price2:.2f}\")\n",
    "print(f\"Call price: {call_price3:.2f}\")\n",
    "print(f\"Call price: {call_price4:.2f}\")\n",
    "print(f\"Call price: {call_price5:.2f}\")\n",
    "print(f\"Call price: {call_price6:.2f}\")\n",
    "print(f\"Call price: {call_price7:.2f}\")"
   ]
  },
  {
   "cell_type": "markdown",
   "metadata": {},
   "source": [
    "When looking at the formula for the black scholes formula along with the equations for d1 and d2 we notice that as we take the limit of $T \\rightarrow \\infty$ we see that for the values we are given $d1 \\rightarrow \\infty$ and $d2 \\rightarrow -\\infty$. So with this we plug in the values for d1 and d2 and get N(d1) =  1 and N(d2) = 0. So for the black scholes formula we see that the call price will converge to the stock price S as $T \\rightarrow \\infty$."
   ]
  },
  {
   "cell_type": "code",
   "execution_count": 137,
   "metadata": {},
   "outputs": [
    {
     "name": "stdout",
     "output_type": "stream",
     "text": [
      "Call price: 7.85\n",
      "Call price: 15.77\n",
      "Call price: 34.29\n",
      "Call price: 55.37\n",
      "Call price: 93.23\n",
      "Call price: 90.45\n",
      "Call price: 60.65\n"
     ]
    }
   ],
   "source": [
    "import pandas as pd\n",
    "import numpy as np\n",
    "from scipy.stats import norm\n",
    "\n",
    "def european_call_price_dividend( S, E, T, r, rho, sigma):\n",
    "    d1 = (np.log(S / E) + (r - rho + 0.5 * sigma**2) * T) / (sigma * np.sqrt(T))\n",
    "    d2 = d1 - sigma * np.sqrt(T)\n",
    "    price = S * np.exp(- rho * T) * norm.cdf(d1) - E * np.exp(-r * T) * norm.cdf(d2)\n",
    "    return price\n",
    "\n",
    "def european_put_price_dividend(S, E, T, r, rho, sigma):\n",
    "    d1 = (np.log(S / E) + (r - rho + 0.5 * sigma**2) * T) / (sigma * np.sqrt(T))\n",
    "    d2 = d1 - sigma * np.sqrt(T)\n",
    "    price = E * np.exp(-r * T) * norm.cdf(-d2) - S * np.exp(- rho * T) * norm.cdf(-d1)\n",
    "    return price\n",
    "\n",
    "# Example usage\n",
    "S = 100\n",
    "E = 120\n",
    "T1 = 1\n",
    "T2 = 2\n",
    "T3 = 5\n",
    "T4 = 10\n",
    "T5 = 50\n",
    "T6 = 100\n",
    "T7 = 500\n",
    "r = 0.08\n",
    "sigma = 0.3\n",
    "rho = 0.001\n",
    "\n",
    "\n",
    "call_price1 = european_call_price_dividend(S, E, T1, r, rho, sigma)\n",
    "call_price2 = european_call_price_dividend(S, E, T2, r, rho, sigma)\n",
    "call_price3 = european_call_price_dividend(S, E, T3, r, rho, sigma)\n",
    "call_price4 = european_call_price_dividend(S, E, T4, r, rho, sigma)\n",
    "call_price5 = european_call_price_dividend(S, E, T5, r, rho, sigma)\n",
    "call_price6 = european_call_price_dividend(S, E, T6, r, rho, sigma)\n",
    "call_price7 = european_call_price_dividend(S, E, T7, r, rho, sigma)\n",
    "\n",
    "print(f\"Call price: {call_price1:.2f}\")\n",
    "print(f\"Call price: {call_price2:.2f}\")\n",
    "print(f\"Call price: {call_price3:.2f}\")\n",
    "print(f\"Call price: {call_price4:.2f}\")\n",
    "print(f\"Call price: {call_price5:.2f}\")\n",
    "print(f\"Call price: {call_price6:.2f}\")\n",
    "print(f\"Call price: {call_price7:.2f}\")"
   ]
  },
  {
   "cell_type": "markdown",
   "metadata": {},
   "source": [
    "When looking at the formula for the black scholes formula along with the equations for d1 and d2 we notice that as we take the limit of $T \\rightarrow \\infty$ we see that for the values we are given $d1 \\rightarrow \\infty$ and $d2 \\rightarrow -\\infty$. So with this we plug in the values for d1 and d2 and get N(d1) =  1 and N(d2) = 0. So for the black scholes formula we see that the call price will converge not converge to S this time as the longer time that passes by the value $e^{-\\delta T}$ decreases the value of the call option for a longer time to maturity. When someone buys a option they do not collect hte dividend on the stock until they excersise the option so for a short time the value of delta here wont effect the price as much but when we increase T the constant lack of collecting dividends lowers the price of the option."
   ]
  },
  {
   "cell_type": "markdown",
   "metadata": {},
   "source": [
    "### Problem 12.4"
   ]
  },
  {
   "cell_type": "code",
   "execution_count": 138,
   "metadata": {},
   "outputs": [
    {
     "name": "stdout",
     "output_type": "stream",
     "text": [
      "Call price: 18.67\n",
      "Call price: 18.14\n",
      "Call price: 15.10\n",
      "Call price: 10.16\n",
      "Call price: 0.29\n",
      "Call price: 0.00\n",
      "Call price: 0.00\n"
     ]
    }
   ],
   "source": [
    "import pandas as pd\n",
    "import numpy as np\n",
    "from scipy.stats import norm\n",
    "\n",
    "def european_call_price_dividend( S, E, T, r, rho, sigma):\n",
    "    d1 = (np.log(S / E) + (r - rho + 0.5 * sigma**2) * T) / (sigma * np.sqrt(T))\n",
    "    d2 = d1 - sigma * np.sqrt(T)\n",
    "    price = S * np.exp(- rho * T) * norm.cdf(d1) - E * np.exp(-r * T) * norm.cdf(d2)\n",
    "    return price\n",
    "\n",
    "def european_put_price_dividend(S, E, T, r, rho, sigma):\n",
    "    d1 = (np.log(S / E) + (r - rho + 0.5 * sigma**2) * T) / (sigma * np.sqrt(T))\n",
    "    d2 = d1 - sigma * np.sqrt(T)\n",
    "    price = E * np.exp(-r * T) * norm.cdf(-d2) - S * np.exp(- rho * T) * norm.cdf(-d1)\n",
    "    return price\n",
    "\n",
    "# Example usage\n",
    "S = 120\n",
    "E = 100\n",
    "T1 = 1\n",
    "T2 = 2\n",
    "T3 = 5\n",
    "T4 = 10\n",
    "T5 = 50\n",
    "T6 = 100\n",
    "T7 = 500\n",
    "r = 0\n",
    "sigma = 0.3\n",
    "rho = 0.08\n",
    "\n",
    "\n",
    "call_price1 = european_call_price_dividend(S, E, T1, r, rho, sigma)\n",
    "call_price2 = european_call_price_dividend(S, E, T2, r, rho, sigma)\n",
    "call_price3 = european_call_price_dividend(S, E, T3, r, rho, sigma)\n",
    "call_price4 = european_call_price_dividend(S, E, T4, r, rho, sigma)\n",
    "call_price5 = european_call_price_dividend(S, E, T5, r, rho, sigma)\n",
    "call_price6 = european_call_price_dividend(S, E, T6, r, rho, sigma)\n",
    "call_price7 = european_call_price_dividend(S, E, T7, r, rho, sigma)\n",
    "\n",
    "print(f\"Call price: {call_price1:.2f}\")\n",
    "print(f\"Call price: {call_price2:.2f}\")\n",
    "print(f\"Call price: {call_price3:.2f}\")\n",
    "print(f\"Call price: {call_price4:.2f}\")\n",
    "print(f\"Call price: {call_price5:.2f}\")\n",
    "print(f\"Call price: {call_price6:.2f}\")\n",
    "print(f\"Call price: {call_price7:.2f}\")"
   ]
  },
  {
   "cell_type": "markdown",
   "metadata": {},
   "source": [
    "We notice that the benefit of holding the option is that we do not have to pay the strike price and it behaves like money in the bank but with r=0 and dividend being greator than zero holding the option outweights the the benefits.\n",
    "\\\n",
    "\\\n",
    "When looking at the formula for the black scholes formula along with the equations for d1 and d2 we notice that as we take the limit of $T \\rightarrow \\infty$ we see that for the values we are given $d1 \\rightarrow \\infty$ and $d2 \\rightarrow -\\infty$. So with this we plug in the values for d1 and d2 and get N(d1) =  1 and N(d2) = 0.  So for the black scholes formula we see that the call price will converge not converge to S this time as the longer time that passes by the value $e^{-\\delta T}$ decreases the value of the call option for a longer time to maturity and this will make the value go to zero with a large enough $\\delta$."
   ]
  },
  {
   "cell_type": "code",
   "execution_count": 139,
   "metadata": {},
   "outputs": [
    {
     "name": "stdout",
     "output_type": "stream",
     "text": [
      "Call price: 25.35\n",
      "Call price: 29.95\n",
      "Call price: 39.48\n",
      "Call price: 49.91\n",
      "Call price: 83.32\n",
      "Call price: 94.66\n",
      "Call price: 72.72\n"
     ]
    }
   ],
   "source": [
    "import pandas as pd\n",
    "import numpy as np\n",
    "from scipy.stats import norm\n",
    "\n",
    "def european_call_price_dividend( S, E, T, r, rho, sigma):\n",
    "    d1 = (np.log(S / E) + (r - rho + 0.5 * sigma**2) * T) / (sigma * np.sqrt(T))\n",
    "    d2 = d1 - sigma * np.sqrt(T)\n",
    "    price = S * np.exp(- rho * T) * norm.cdf(d1) - E * np.exp(-r * T) * norm.cdf(d2)\n",
    "    return price\n",
    "\n",
    "def european_put_price_dividend(S, E, T, r, rho, sigma):\n",
    "    d1 = (np.log(S / E) + (r - rho + 0.5 * sigma**2) * T) / (sigma * np.sqrt(T))\n",
    "    d2 = d1 - sigma * np.sqrt(T)\n",
    "    price = E * np.exp(-r * T) * norm.cdf(-d2) - S * np.exp(- rho * T) * norm.cdf(-d1)\n",
    "    return price\n",
    "\n",
    "# Example usage\n",
    "S = 120\n",
    "E = 100\n",
    "T1 = 1\n",
    "T2 = 2\n",
    "T3 = 5\n",
    "T4 = 10\n",
    "T5 = 50\n",
    "T6 = 100\n",
    "T7 = 500\n",
    "r = 0\n",
    "sigma = 0.3\n",
    "rho = 0.001\n",
    "\n",
    "\n",
    "call_price1 = european_call_price_dividend(S, E, T1, r, rho, sigma)\n",
    "call_price2 = european_call_price_dividend(S, E, T2, r, rho, sigma)\n",
    "call_price3 = european_call_price_dividend(S, E, T3, r, rho, sigma)\n",
    "call_price4 = european_call_price_dividend(S, E, T4, r, rho, sigma)\n",
    "call_price5 = european_call_price_dividend(S, E, T5, r, rho, sigma)\n",
    "call_price6 = european_call_price_dividend(S, E, T6, r, rho, sigma)\n",
    "call_price7 = european_call_price_dividend(S, E, T7, r, rho, sigma)\n",
    "\n",
    "print(f\"Call price: {call_price1:.2f}\")\n",
    "print(f\"Call price: {call_price2:.2f}\")\n",
    "print(f\"Call price: {call_price3:.2f}\")\n",
    "print(f\"Call price: {call_price4:.2f}\")\n",
    "print(f\"Call price: {call_price5:.2f}\")\n",
    "print(f\"Call price: {call_price6:.2f}\")\n",
    "print(f\"Call price: {call_price7:.2f}\")"
   ]
  },
  {
   "cell_type": "markdown",
   "metadata": {},
   "source": [
    "We notice that the benefit of holding the option is that we do not have to pay the strike price and it behaves like money in the bank but with r=0 and dividend being greator than zero holding the option outweights the the benefits.\n",
    "\\\n",
    "\\\n",
    "When looking at the formula for the black scholes formula along with the equations for d1 and d2 we notice that as we take the limit of $T \\rightarrow \\infty$ we see that for the values we are given $d1 \\rightarrow \\infty$ and $d2 \\rightarrow -\\infty$. So with this we plug in the values for d1 and d2 and get N(d1) =  1 and N(d2) = 0.  So for the black scholes formula we see that the call price will converge not converge to S this time as the longer time that passes by the value $e^{-\\delta T}$ decreases the value of the call option for a longer time to maturity and this will make the value go to zero with a large enough $\\delta$ but here the delta is very small so the price does not converge to zero as fast in the part a."
   ]
  },
  {
   "cell_type": "markdown",
   "metadata": {},
   "source": [
    "### Problem 12.7"
   ]
  },
  {
   "cell_type": "code",
   "execution_count": 140,
   "metadata": {},
   "outputs": [
    {
     "name": "stdout",
     "output_type": "stream",
     "text": [
      "The black scholes price of the call is: $14.39\n"
     ]
    }
   ],
   "source": [
    "import pandas as pd\n",
    "import numpy as np\n",
    "from scipy.stats import norm\n",
    "\n",
    "def european_call_price_dividend( S, E, T, r, rho, sigma):\n",
    "    d1 = (np.log(S / E) + (r - rho + 0.5 * sigma**2) * T) / (sigma * np.sqrt(T))\n",
    "    d2 = d1 - sigma * np.sqrt(T)\n",
    "    price = S * np.exp(- rho * T) * norm.cdf(d1) - E * np.exp(-r * T) * norm.cdf(d2)\n",
    "    return price\n",
    "\n",
    "def european_put_price_dividend(S, E, T, r, rho, sigma):\n",
    "    d1 = (np.log(S / E) + (r - rho + 0.5 * sigma**2) * T) / (sigma * np.sqrt(T))\n",
    "    d2 = d1 - sigma * np.sqrt(T)\n",
    "    price = E * np.exp(-r * T) * norm.cdf(-d2) - S * np.exp(- rho * T) * norm.cdf(-d1)\n",
    "    return price\n",
    "\n",
    "# Example usage\n",
    "S = 100\n",
    "E = 95\n",
    "T1 = 0.75\n",
    "r = 0.08\n",
    "sigma = 0.3\n",
    "rho = 0.03\n",
    "\n",
    "\n",
    "call_price1 = european_call_price_dividend(S, E, T1, r, rho, sigma)\n",
    "\n",
    "print(f\"The black scholes price of the call is: ${call_price1:.2f}\")"
   ]
  },
  {
   "cell_type": "code",
   "execution_count": 141,
   "metadata": {},
   "outputs": [
    {
     "name": "stdout",
     "output_type": "stream",
     "text": [
      "The black scholes price of the call is: $14.39\n"
     ]
    }
   ],
   "source": [
    "import pandas as pd\n",
    "import numpy as np\n",
    "from scipy.stats import norm\n",
    "\n",
    "def european_call_price_dividend( S, E, T, r, rho, sigma):\n",
    "    d1 = (np.log(S / E) + (r - rho + 0.5 * sigma**2) * T) / (sigma * np.sqrt(T))\n",
    "    d2 = d1 - sigma * np.sqrt(T)\n",
    "    price = S * np.exp(- rho * T) * norm.cdf(d1) - E * np.exp(-r * T) * norm.cdf(d2)\n",
    "    return price\n",
    "\n",
    "def european_put_price_dividend(S, E, T, r, rho, sigma):\n",
    "    d1 = (np.log(S / E) + (r - rho + 0.5 * sigma**2) * T) / (sigma * np.sqrt(T))\n",
    "    d2 = d1 - sigma * np.sqrt(T)\n",
    "    price = E * np.exp(-r * T) * norm.cdf(-d2) - S * np.exp(- rho * T) * norm.cdf(-d1)\n",
    "    return price\n",
    "\n",
    "# Example usage\n",
    "T1 = 0.75\n",
    "r = 0\n",
    "sigma = 0.3\n",
    "rho = 0\n",
    "S = 100 * np.exp( - 0.03 * T1)\n",
    "E = 95 * np.exp(- 0.08 * T1)\n",
    "\n",
    "\n",
    "call_price1 = european_call_price_dividend(S, E, T1, r, rho, sigma)\n",
    "\n",
    "print(f\"The black scholes price of the call is: ${call_price1:.2f}\")"
   ]
  },
  {
   "cell_type": "markdown",
   "metadata": {},
   "source": [
    "The answers are the same because even though r and $\\delta$ are zero in the second example we already compute the value for S and E with the values and we calcuate them as if there was values already for r and $\\delta$ so that is why the values are the same because you compute the values now rather than later so therefore the call option prices are the same."
   ]
  },
  {
   "cell_type": "markdown",
   "metadata": {},
   "source": [
    "### Problem 12.13"
   ]
  },
  {
   "cell_type": "code",
   "execution_count": 142,
   "metadata": {},
   "outputs": [
    {
     "data": {
      "image/png": "[encoded data removed]",
      "text/plain": [
       "<Figure size 640x480 with 1 Axes>"
      ]
     },
     "metadata": {},
     "output_type": "display_data"
    }
   ],
   "source": [
    "import numpy as np\n",
    "import matplotlib.pyplot as plt\n",
    "from scipy.stats import norm\n",
    "\n",
    "def european_call_price_dividend(S, E, T, r, rho, sigma):\n",
    "    d1 = (np.log(S / E) + (r - rho + 0.5 * sigma**2) * T) / (sigma * np.sqrt(T))\n",
    "    d2 = d1 - sigma * np.sqrt(T)\n",
    "    price = S * np.exp(-rho * T) * norm.cdf(d1) - E * np.exp(-r * T) * norm.cdf(d2)\n",
    "    return price\n",
    "\n",
    "# Parameters\n",
    "S = 40  \n",
    "sigma = 0.30 \n",
    "r = 0.08  \n",
    "rho = 0  \n",
    "T = 0.5  \n",
    "K_buy = 40  \n",
    "K_sell = 45  \n",
    "\n",
    "stock_prices = np.linspace(20, 60, 400)\n",
    "time_points = [1/365, 3/12, 0.5]  \n",
    "time_labels = [\"1 day\", \"3 months\", \"6 months\"]  \n",
    "\n",
    "fig, ax = plt.subplots()\n",
    "for T, label in zip(time_points, time_labels):\n",
    "    call_buy_prices = european_call_price_dividend(stock_prices, K_buy, T, r, rho, sigma)\n",
    "    call_sell_prices = european_call_price_dividend(stock_prices, K_sell, T, r, rho, sigma)\n",
    "    bull_spread_profit = call_buy_prices - call_sell_prices\n",
    "\n",
    "    ax.plot(stock_prices, bull_spread_profit, label=label)\n",
    "\n",
    "ax.axhline(0, color='grey', lw=0.5)\n",
    "ax.legend(title='Time to expiration')\n",
    "ax.set_xlabel('Stock Price ($)')\n",
    "ax.set_ylabel('Profit ($)') \n",
    "ax.set_title('Profit from Bull Spread as a function of Stock Price')\n",
    "\n",
    "plt.show()\n"
   ]
  },
  {
   "cell_type": "markdown",
   "metadata": {},
   "source": [
    "### Problem 12.20"
   ]
  },
  {
   "cell_type": "code",
   "execution_count": 145,
   "metadata": {},
   "outputs": [
    {
     "name": "stdout",
     "output_type": "stream",
     "text": [
      "The black scholes price of the call is: $17.70\n"
     ]
    }
   ],
   "source": [
    "import pandas as pd\n",
    "import numpy as np\n",
    "from scipy.stats import norm\n",
    "\n",
    "def european_call_price_dividend( S, E, T, r, rho, sigma):\n",
    "    d1 = (np.log(S / E) + (r - rho + 0.5 * sigma**2) * T) / (sigma * np.sqrt(T))\n",
    "    d2 = d1 - sigma * np.sqrt(T)\n",
    "    price = S * np.exp(- rho * T) * norm.cdf(d1) - E * np.exp(-r * T) * norm.cdf(d2)\n",
    "    return price\n",
    "\n",
    "def european_put_price_dividend(S, E, T, r, rho, sigma):\n",
    "    d1 = (np.log(S / E) + (r - rho + 0.5 * sigma**2) * T) / (sigma * np.sqrt(T))\n",
    "    d2 = d1 - sigma * np.sqrt(T)\n",
    "    price = E * np.exp(-r * T) * norm.cdf(-d2) - S * np.exp(- rho * T) * norm.cdf(-d1)\n",
    "    return price\n",
    "\n",
    "# Example usage\n",
    "S = 100\n",
    "E = 90\n",
    "T1 = 1\n",
    "r = 0.08\n",
    "sigma = 0.3\n",
    "rho = 0.05\n",
    "\n",
    "\n",
    "call_price1 = european_call_price_dividend(S, E, T1, r, rho, sigma)\n",
    "\n",
    "print(f\"The black scholes price of the call is: ${call_price1:.2f}\")"
   ]
  },
  {
   "cell_type": "code",
   "execution_count": 146,
   "metadata": {},
   "outputs": [
    {
     "name": "stdout",
     "output_type": "stream",
     "text": [
      "The black scholes price of the call is: $17.70\n"
     ]
    }
   ],
   "source": [
    "import pandas as pd\n",
    "import numpy as np\n",
    "from scipy.stats import norm\n",
    "\n",
    "def european_call_price_dividend( S, E, T, r, rho, sigma):\n",
    "    d1 = (np.log(S / E) + (r - rho + 0.5 * sigma**2) * T) / (sigma * np.sqrt(T))\n",
    "    d2 = d1 - sigma * np.sqrt(T)\n",
    "    price = S * np.exp(- rho * T) * norm.cdf(d1) - E * np.exp(-r * T) * norm.cdf(d2)\n",
    "    return price\n",
    "\n",
    "def european_put_price_dividend(S, E, T, r, rho, sigma):\n",
    "    d1 = (np.log(S / E) + (r - rho + 0.5 * sigma**2) * T) / (sigma * np.sqrt(T))\n",
    "    d2 = d1 - sigma * np.sqrt(T)\n",
    "    price = E * np.exp(-r * T) * norm.cdf(-d2) - S * np.exp(- rho * T) * norm.cdf(-d1)\n",
    "    return price\n",
    "\n",
    "# Example usage\n",
    "S = 90\n",
    "E = 100\n",
    "T1 = 1\n",
    "r = 0.05\n",
    "sigma = 0.3\n",
    "rho = 0.08\n",
    "\n",
    "\n",
    "put_price1 = european_put_price_dividend(S, E, T1, r, rho, sigma)\n",
    "\n",
    "print(f\"The black scholes price of the call is: ${put_price1:.2f}\")"
   ]
  },
  {
   "cell_type": "markdown",
   "metadata": {},
   "source": [
    "The option prices will be the exact same because of the way that we have priced the options. We know the following about the price of the call option and put.\n",
    "\\\n",
    "\\\n",
    "Given the Black-Scholes formulas for European call and put options:\n",
    "\n",
    "- Call Option: $c(t) = Se^{-\\delta (T-t)} \\cdot N(d_1) - Ee^{-r(T-t)} \\cdot N(d_2)$\n",
    "- Put Option: $p(t) = Ee^{-r(T-t)} \\cdot N(-d_2) - Se^{-\\delta (T-t)} \\cdot N(-d_1)$\n",
    "\n",
    "where $d_1 = \\frac{\\ln(S / E) + (r - \\delta + \\sigma^2 / 2)(T-t)}{\\sigma \\sqrt{T-t}}$ and $d_2 = d_1 - \\sigma \\sqrt{T-t}$\n",
    "\n",
    "so when lets leave the call option equation alone but change the Put option equation. $p(t) = Ee^{-r(T-t)}  \\cdot N(-d_2) - Se^{-\\delta (t-t)} \\cdot N(-d_1)$ we plug in the values for the numbers here where S(put) = E(call), E(put) = S(call), r(put) = $\\delta$(call),and $\\delta$(put) = r(call). so $p(t) = Se^{-\\delta(T-t)}  \\cdot N(-d_2) - Ee^{-r(t-t)} \\cdot N(-d_1)$ then we plug in the values for d1 and d2 and get $d_1 = \\frac{\\ln(E / S) + (\\delta -r + \\sigma^2 / 2)(T-t)}{\\sigma \\sqrt{T-t}}$ and $d_2 = \\frac{\\ln(E / S) + (\\delta - r - \\sigma^2 / 2)(T-t)}{\\sigma \\sqrt{T-t}}$ but with some algebra we get the following $d_1 = - \\frac{\\ln(S/ E) - (r + \\delta  - \\sigma^2 / 2)(T-t)}{\\sigma \\sqrt{T-t}}$ and $d_2 = - \\frac{\\ln(S / E) + (r - \\delta + \\sigma^2 / 2)(T-t)}{\\sigma \\sqrt{T-t}}$ so $-d_1 = d_2(call)$ and $-d_2 = d_1(call)$ then we see that when we plug in the equtions we get $p(t) = Se^{-\\delta(T-t)}  \\cdot N(d_1) - Ee^{-r(t-t)} \\cdot N(d_2)$ and we then see that the call price and the put price will be equal for these values. So this is why when we computed the option prices for these values they were the exact same."
   ]
  },
  {
   "cell_type": "code",
   "execution_count": null,
   "metadata": {},
   "outputs": [],
   "source": []
  }
 ],
 "metadata": {
  "interpreter": {
   "hash": "9227a2dca4f8baa12dd3264d1906c6723dd01499d9929b04ecac3c7697ba7495"
  },
  "kernelspec": {
   "display_name": "Python 3.10.9 ('base')",
   "language": "python",
   "name": "python3"
  },
  "language_info": {
   "codemirror_mode": {
    "name": "ipython",
    "version": 3
   },
   "file_extension": ".py",
   "mimetype": "text/x-python",
   "name": "python",
   "nbconvert_exporter": "python",
   "pygments_lexer": "ipython3",
   "version": "3.10.9"
  },
  "orig_nbformat": 4
 },
 "nbformat": 4,
 "nbformat_minor": 2
}
